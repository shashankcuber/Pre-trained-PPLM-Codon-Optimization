{
 "cells": [
  {
   "cell_type": "code",
   "execution_count": 2,
   "metadata": {},
   "outputs": [],
   "source": [
    "import pandas as pd, textwrap\n",
    "\n",
    "df = pd.read_csv(\"./test_set_human_long_protbert.csv\")\n",
    "with open(\"test_human_long_protbert.fasta\", \"w\") as out:\n",
    "    idx = 1\n",
    "    for seq in df[\"aa_sequence\"].fillna(\"\").astype(str).str.strip():\n",
    "        if not seq:\n",
    "            continue\n",
    "        out.write(f\">Protein_{idx}_human\\n\")\n",
    "        out.write(\"\\n\".join(textwrap.wrap(seq, 2000)) + \"\\n\")\n",
    "        idx += 1\n"
   ]
  },
  {
   "cell_type": "code",
   "execution_count": null,
   "metadata": {},
   "outputs": [],
   "source": []
  }
 ],
 "metadata": {
  "kernelspec": {
   "display_name": "PPLMCO",
   "language": "python",
   "name": "python3"
  },
  "language_info": {
   "codemirror_mode": {
    "name": "ipython",
    "version": 3
   },
   "file_extension": ".py",
   "mimetype": "text/x-python",
   "name": "python",
   "nbconvert_exporter": "python",
   "pygments_lexer": "ipython3",
   "version": "3.9.23"
  }
 },
 "nbformat": 4,
 "nbformat_minor": 2
}
